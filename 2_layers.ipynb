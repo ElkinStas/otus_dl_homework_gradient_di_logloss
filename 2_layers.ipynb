{
 "cells": [
  {
   "cell_type": "code",
   "execution_count": 539,
   "metadata": {},
   "outputs": [],
   "source": [
    "import numpy as np\n",
    "import math\n",
    "import matplotlib.pyplot as plt\n",
    "import scipy.stats as stats \n",
    "%matplotlib inline\n",
    "import random"
   ]
  },
  {
   "cell_type": "code",
   "execution_count": 540,
   "metadata": {},
   "outputs": [],
   "source": [
    "def sigmoid(z):\n",
    "    return 1./(1+np.exp(-z))\n",
    "def der_sigmoid(z):\n",
    "    return (1./(1+np.exp(-z)))*(1-(1./(1+np.exp(-z))))"
   ]
  },
  {
   "cell_type": "code",
   "execution_count": 541,
   "metadata": {},
   "outputs": [],
   "source": [
    "\n",
    "\n",
    "def diff_log_loss(t, y):\n",
    "    \n",
    "    return np.sum(-(t/y) -(t -1)/(1-y), keepdims=True)\n",
    "def log_loss(t, y):\n",
    "    return np.sum((-t*np.log(y) - (1 - t) * (np.log(1 - y))), keepdims=True).flatten()\n"
   ]
  },
  {
   "cell_type": "code",
   "execution_count": 548,
   "metadata": {},
   "outputs": [],
   "source": [
    "class Layer: #слой реализован в виде класса\n",
    "  \n",
    "    \n",
    "    def __init__(self, n_inp, hidden, n_out, lr=0.01):\n",
    "        self.shape = (n_inp, n_out) #залетают входящие и выходящие значения\n",
    "        self.lr = lr #шаг обучения\n",
    "        self.w1 = np.zeros((n_inp, hidden), dtype=np.float32) #веса в начале заданы нулями\n",
    "        self.b1 = np.zeros((1, n_out), dtype=np.float32) #смещения в начале заданы нулями\n",
    "        self.w2 = np.zeros((hidden, n_out), dtype=np.float32) #веса в начале заданы нулями\n",
    "        self.b2 = np.zeros((1, n_out), dtype=np.float32) #смещения в начале заданы нулями\n",
    "        self._clear_grads() #проход обычного градиентного спуска\n",
    "\n",
    "    def _clear_grads(self): #градиентный спуск\n",
    "        self.inp = None\n",
    "        self.activations1 = None\n",
    "        self.activations2 = None\n",
    "        self.d_sigma1 = None\n",
    "        self.d_sigma2 = None\n",
    "        self.d_w1 = None\n",
    "        self.d_b1 = None\n",
    "        self.d_w2 = None\n",
    "        self.d_b2 = None\n",
    "\n",
    "    def __call__(self, x): #вызов класса\n",
    "        if len(x.shape) == 1: #если входящие значения одноразмерны - сменить размерность\n",
    "            x = x.reshape(1, -1)\n",
    "        self.inp = x #задаем входные значения\n",
    "        self.activations1 = sigmoid(x.astype(np.float64).dot(self.w1) + self.b1) #запуск функции с функцией активации\n",
    "        self.activations2 = sigmoid(self.activations1.astype(np.float64).dot(self.w2) + self.b2)\n",
    "        return self.activations2\n",
    "\n",
    "    def backward(self, grad): # обратный проход\n",
    "        self.d_sigma2 = self.activations2 * (1 - self.activations2) #производная функции ошибки \n",
    "        self.d_w2 = self.grad_w2(grad)\n",
    "        self.d_b2 = self.grad_b2(grad)\n",
    "        self.d_sigma1 = self.activations1 * (1 - self.activations1)\n",
    "        zuzu = self.grad_x2(grad)\n",
    "        self.d_w1 = self.grad_w1(zuzu)\n",
    "        self.d_b1 = self.grad_b1(zuzu)\n",
    "        return self.grad_x2(zuzu)\n",
    "    def grad_w1(self, grad):\n",
    "        return grad * self.inp.T * self.d_sigma1\n",
    "\n",
    "    def grad_b1(self, grad):\n",
    "        return grad * self.d_sigma1\n",
    "\n",
    "    def grad_x1(self, grad):\n",
    "        return self.w1.dot(grad) * self.d_sigma1\n",
    "    \n",
    "    def grad_w2(self, grad):\n",
    "        return grad.dot(self.activations1.T) * self.d_sigma2\n",
    "\n",
    "    def grad_b2(self, grad):\n",
    "        return grad * self.d_sigma2\n",
    "\n",
    "    def grad_x2(self, grad):\n",
    "        return self.w2.dot(grad) * self.d_sigma2\n",
    "\n",
    "    def step(self):\n",
    "        self.w1 -= self.d_w1 * self.lr\n",
    "        self.b1 -= self.d_b1 * self.lr\n",
    "        self.w2 -= self.d_w2 * self.lr\n",
    "        self.b2 -= self.d_b2 * self.lr\n",
    "        self._clear_grads()\n",
    "        #return(self.w, self.b)\n"
   ]
  },
  {
   "cell_type": "code",
   "execution_count": 549,
   "metadata": {},
   "outputs": [],
   "source": [
    "\n",
    "l1 = Layer(1, 1, 1) #слой1 \n",
    "#l2 = Layer(1,1) #слой2\n"
   ]
  },
  {
   "cell_type": "code",
   "execution_count": 551,
   "metadata": {},
   "outputs": [
    {
     "data": {
      "text/plain": [
       "[1, 0]"
      ]
     },
     "execution_count": 551,
     "metadata": {},
     "output_type": "execute_result"
    }
   ],
   "source": [
    "list_of_distr = [1, 0]\n",
    "list_of_distr"
   ]
  },
  {
   "cell_type": "code",
   "execution_count": 552,
   "metadata": {},
   "outputs": [
    {
     "name": "stdout",
     "output_type": "stream",
     "text": [
      "[0.0886979]\n"
     ]
    }
   ],
   "source": [
    "pipi =[]\n",
    "pupu =[]\n",
    "for i in range(20000):\n",
    "    \n",
    "    t = random.choice(list_of_distr)\n",
    "    if t == 1:\n",
    "        x = np.random.normal(1.5, 1.0, (1,1))\n",
    "        pipi.append(x)\n",
    "    else:\n",
    "        x = np.random.normal(-1.5, 1.0, (1,1))\n",
    "        pupu.append(x)\n",
    "    y = l1(x)\n",
    "    d_y = diff_log_loss(t, y)\n",
    "        #print(d_y)\n",
    "    l1.backward(d_y)\n",
    "    l1.step()\n",
    "print(log_loss(t,y))"
   ]
  },
  {
   "cell_type": "code",
   "execution_count": 553,
   "metadata": {},
   "outputs": [
    {
     "data": {
      "text/plain": [
       "<matplotlib.legend.Legend at 0x7f08cccc2a90>"
      ]
     },
     "execution_count": 553,
     "metadata": {},
     "output_type": "execute_result"
    },
    {
     "data": {
      "image/png": "[encoded data removed]",
      "text/plain": [
       "<Figure size 432x288 with 1 Axes>"
      ]
     },
     "metadata": {
      "needs_background": "light"
     },
     "output_type": "display_data"
    }
   ],
   "source": [
    "x_scale = np.linspace(-10, 10, 5000)\n",
    "predictor = []\n",
    "for line in x_scale:\n",
    "    x = np.array(line)\n",
    "    predictor.append(l1(x))\n",
    "predictor = np.array(predictor)\n",
    "predictor.reshape(5000,1)\n",
    "h = pipi\n",
    "h.sort()\n",
    "hmean = np.mean(h) \n",
    "hstd = np.std(h) \n",
    "mu0_pdf = stats.norm.pdf(x_scale, hmean, hstd)\n",
    "plt.plot(x_scale, mu0_pdf*2, label='mu_0')\n",
    "h = pupu\n",
    "h.sort()\n",
    "hmean = np.mean(h) \n",
    "hstd = np.std(h) \n",
    "mu1_pdf = stats.norm.pdf(x_scale, hmean, hstd) \n",
    "plt.plot(x_scale,  mu1_pdf*2, label='mu_1')\n",
    "plt.plot(x_scale, predictor.flatten() , label='pred')\n",
    "plt.legend()"
   ]
  },
  {
   "cell_type": "code",
   "execution_count": null,
   "metadata": {},
   "outputs": [],
   "source": []
  }
 ],
 "metadata": {
  "kernelspec": {
   "display_name": "Python 3",
   "language": "python",
   "name": "python3"
  },
  "language_info": {
   "codemirror_mode": {
    "name": "ipython",
    "version": 3
   },
   "file_extension": ".py",
   "mimetype": "text/x-python",
   "name": "python",
   "nbconvert_exporter": "python",
   "pygments_lexer": "ipython3",
   "version": "3.6.9"
  }
 },
 "nbformat": 4,
 "nbformat_minor": 4
}
