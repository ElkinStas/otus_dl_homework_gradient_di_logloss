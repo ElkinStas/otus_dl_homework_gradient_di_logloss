{
 "cells": [
  {
   "cell_type": "code",
   "execution_count": 182,
   "metadata": {},
   "outputs": [],
   "source": [
    "import numpy as np\n",
    "import math\n",
    "import matplotlib.pyplot as plt\n",
    "import scipy.stats as stats \n",
    "%matplotlib inline\n",
    "import random"
   ]
  },
  {
   "cell_type": "code",
   "execution_count": 196,
   "metadata": {},
   "outputs": [],
   "source": [
    "def sigmoid(z):\n",
    "    return 1./(1+np.exp(-z))\n",
    "def der_sigmoid(z):\n",
    "    return (1./(1+np.exp(-z)))*(1-(1./(1+np.exp(-z))))"
   ]
  },
  {
   "cell_type": "code",
   "execution_count": 197,
   "metadata": {},
   "outputs": [],
   "source": [
    "\n",
    "\n",
    "def diff_log_loss(t, y):\n",
    "    \n",
    "    return np.sum(-t/y +(1-t)/(1-y), keepdims=True)\n",
    "def log_loss(t, y):\n",
    "    return np.sum((-t*np.log(y) - (1 - t) * (np.log(1 - y))), keepdims=True).flatten()\n"
   ]
  },
  {
   "cell_type": "code",
   "execution_count": 204,
   "metadata": {},
   "outputs": [],
   "source": [
    "class Layer: #слой реализован в виде класса\n",
    "  \n",
    "    \n",
    "    def __init__(self, n_inp, n_out, lr=0.1):\n",
    "        self.shape = (n_inp, n_out) #залетают входящие и выходящие значения\n",
    "        self.lr = lr #шаг обучения\n",
    "        self.w = np.zeros(self.shape, dtype=np.float32) #веса в начале заданы нулями\n",
    "        self.b = np.zeros((1, n_out), dtype=np.float32) #смещения в начале заданы нулями\n",
    "        self._clear_grads() #проход обычного градиентного спуска\n",
    "\n",
    "    def _clear_grads(self): #градиентный спуск\n",
    "        self.inp = None\n",
    "        self.activations = None\n",
    "        self.d_sigma = None\n",
    "        self.d_w = None\n",
    "        self.d_b = None\n",
    "\n",
    "    def __call__(self, x): #вызов класса\n",
    "        if len(x.shape) == 1: #если входящие значения одноразмерны - сменить размерность\n",
    "            x = x.reshape(1, -1)\n",
    "        self.inp = x #задаем входные значения\n",
    "        self.activations = sigmoid(x.astype(np.float64).dot(self.w) + self.b) #запуск функции с функцией активации\n",
    "        return self.activations\n",
    "\n",
    "    def backward(self, grad): # обратный проход\n",
    "        self.d_sigma = self.activations * (1 - self.activations) #производная функции ошибки \n",
    "        self.d_w = self.grad_w(grad)\n",
    "        self.d_b = self.grad_b(grad)\n",
    "        return self.grad_x(grad)\n",
    "\n",
    "    def grad_w(self, grad):\n",
    "        return grad * self.inp.T * self.d_sigma\n",
    "\n",
    "    def grad_b(self, grad):\n",
    "        return grad * self.d_sigma\n",
    "\n",
    "    def grad_x(self, grad):\n",
    "        return self.w.dot(grad) * self.d_sigma\n",
    "\n",
    "    def step(self):\n",
    "        self.w -= self.d_w * self.lr\n",
    "        self.b -= self.d_b * self.lr\n",
    "        self._clear_grads()\n",
    "        #return(self.w, self.b)\n"
   ]
  },
  {
   "cell_type": "code",
   "execution_count": 205,
   "metadata": {},
   "outputs": [],
   "source": [
    "\n",
    "l1 = Layer(1, 1) #слой1 \n",
    "l2 = Layer(1,1) #слой2\n"
   ]
  },
  {
   "cell_type": "code",
   "execution_count": 206,
   "metadata": {},
   "outputs": [],
   "source": [
    "mu_0 = np.random.normal(1.5, 1.0, (2,10000))\n",
    "mu_1 = np.random.normal(3.5, 1.0, (2,10000))"
   ]
  },
  {
   "cell_type": "code",
   "execution_count": 207,
   "metadata": {},
   "outputs": [
    {
     "data": {
      "text/plain": [
       "[1, 0]"
      ]
     },
     "execution_count": 207,
     "metadata": {},
     "output_type": "execute_result"
    }
   ],
   "source": [
    "list_of_distr = [1, 0]\n",
    "list_of_distr"
   ]
  },
  {
   "cell_type": "code",
   "execution_count": 211,
   "metadata": {},
   "outputs": [
    {
     "name": "stdout",
     "output_type": "stream",
     "text": [
      "[0.00243639]\n"
     ]
    }
   ],
   "source": [
    "\n",
    "for i in range(10000):\n",
    "    \n",
    "    t = random.choice(list_of_distr)\n",
    "    if t == 1:\n",
    "        x = np.random.normal(1.5, 1.0, (1,1))\n",
    "    else:\n",
    "        x = np.random.normal(3.5, 1.0, (1,1))\n",
    "    y = l1(x.T)\n",
    "    d_y = diff_log_loss(t, y)\n",
    "        #print(d_y)\n",
    "    l1.backward(d_y)\n",
    "    l1.step()\n",
    "print(log_loss(t,y))"
   ]
  },
  {
   "cell_type": "code",
   "execution_count": 212,
   "metadata": {},
   "outputs": [
    {
     "name": "stdout",
     "output_type": "stream",
     "text": [
      "[[0.10135374]]\n"
     ]
    }
   ],
   "source": [
    "\n",
    "for i in range(10000):\n",
    "    \n",
    "    t = random.choice(list_of_distr)\n",
    "    if t == 1:\n",
    "        x = np.random.normal(1.5, 1.0, (1,1))\n",
    "    else:\n",
    "        x = np.random.normal(-1.5, 1.0, (1,1))\n",
    "    y1 = l1(x)\n",
    "    y2 = l2(y1)\n",
    "    d_y2 = diff_log_loss(t, y2)\n",
    "    d_y1 = diff_log_loss(y2, y1)\n",
    "    l2.backward(d_y2)\n",
    "    l1.backward(d_y1)\n",
    "    l2.step()\n",
    "    l1.step()\n",
    "print(d_y1)"
   ]
  },
  {
   "cell_type": "code",
   "execution_count": 213,
   "metadata": {},
   "outputs": [
    {
     "data": {
      "text/plain": [
       "<matplotlib.legend.Legend at 0x7f08cec6c8d0>"
      ]
     },
     "execution_count": 213,
     "metadata": {},
     "output_type": "execute_result"
    },
    {
     "data": {
      "image/png": "[encoded data removed]",
      "text/plain": [
       "<Figure size 432x288 with 1 Axes>"
      ]
     },
     "metadata": {
      "needs_background": "light"
     },
     "output_type": "display_data"
    }
   ],
   "source": [
    "x_scale = np.linspace(-10, 10, 5000)\n",
    "predictor = []\n",
    "for line in x_scale:\n",
    "    x = np.array(line)\n",
    "    predictor.append(l2(l1(x)))\n",
    "predictor = np.array(predictor)\n",
    "predictor.reshape(5000,1)\n",
    "h = mu_0[1]\n",
    "h.sort()\n",
    "hmean = np.mean(h) \n",
    "hstd = np.std(h) \n",
    "mu0_pdf = stats.norm.pdf(x_scale, hmean, hstd)\n",
    "plt.plot(x_scale, mu0_pdf*2, label='mu_0')\n",
    "h = mu_1[1]\n",
    "h.sort()\n",
    "hmean = np.mean(h) \n",
    "hstd = np.std(h) \n",
    "mu1_pdf = stats.norm.pdf(x_scale, hmean, hstd) \n",
    "plt.plot(x_scale,  mu1_pdf*2, label='mu_1')\n",
    "plt.plot(x_scale, predictor.flatten() , label='pred')\n",
    "plt.legend()"
   ]
  },
  {
   "cell_type": "code",
   "execution_count": 50,
   "metadata": {},
   "outputs": [
    {
     "data": {
      "text/plain": [
       "array([[ 0.9282691 ,  0.15198657,  1.20595228, ...,  2.69649453,\n",
       "         0.36600196,  2.76623027],\n",
       "       [-2.16077599, -2.1601854 , -2.09018988, ...,  4.95802689,\n",
       "         5.01191086,  5.23136371]])"
      ]
     },
     "execution_count": 50,
     "metadata": {},
     "output_type": "execute_result"
    }
   ],
   "source": [
    "mu_0"
   ]
  },
  {
   "cell_type": "code",
   "execution_count": 53,
   "metadata": {},
   "outputs": [
    {
     "data": {
      "text/plain": [
       "array([[0.4987516]])"
      ]
     },
     "execution_count": 53,
     "metadata": {},
     "output_type": "execute_result"
    }
   ],
   "source": [
    "ga = np.array([-2.09018988])\n",
    "l2(l1(ga))"
   ]
  },
  {
   "cell_type": "code",
   "execution_count": 209,
   "metadata": {},
   "outputs": [
    {
     "data": {
      "text/plain": [
       "<matplotlib.legend.Legend at 0x7f08ced6d0f0>"
      ]
     },
     "execution_count": 209,
     "metadata": {},
     "output_type": "execute_result"
    },
    {
     "data": {
      "image/png": "[encoded data removed]",
      "text/plain": [
       "<Figure size 432x288 with 1 Axes>"
      ]
     },
     "metadata": {
      "needs_background": "light"
     },
     "output_type": "display_data"
    }
   ],
   "source": [
    "x_scale = np.linspace(-10, 10, 5000)\n",
    "predictor = []\n",
    "for line in x_scale:\n",
    "    x = np.array(line)\n",
    "    predictor.append(l1(x))\n",
    "predictor = np.array(predictor)\n",
    "predictor.reshape(5000,1)\n",
    "h = mu_0[1]\n",
    "h.sort()\n",
    "hmean = np.mean(h) \n",
    "hstd = np.std(h) \n",
    "mu0_pdf = stats.norm.pdf(x_scale, hmean, hstd)\n",
    "plt.plot(x_scale, mu0_pdf*2, label='mu_0')\n",
    "h = mu_1[1]\n",
    "h.sort()\n",
    "hmean = np.mean(h) \n",
    "hstd = np.std(h) \n",
    "mu1_pdf = stats.norm.pdf(x_scale, hmean, hstd) \n",
    "plt.plot(x_scale,  mu1_pdf*2, label='mu_1')\n",
    "plt.plot(x_scale, predictor.flatten() , label='pred')\n",
    "plt.legend()"
   ]
  },
  {
   "cell_type": "code",
   "execution_count": null,
   "metadata": {},
   "outputs": [],
   "source": []
  }
 ],
 "metadata": {
  "kernelspec": {
   "display_name": "Python 3",
   "language": "python",
   "name": "python3"
  },
  "language_info": {
   "codemirror_mode": {
    "name": "ipython",
    "version": 3
   },
   "file_extension": ".py",
   "mimetype": "text/x-python",
   "name": "python",
   "nbconvert_exporter": "python",
   "pygments_lexer": "ipython3",
   "version": "3.6.9"
  }
 },
 "nbformat": 4,
 "nbformat_minor": 4
}
