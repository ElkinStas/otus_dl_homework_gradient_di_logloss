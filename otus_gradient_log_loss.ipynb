{
 "cells": [
  {
   "cell_type": "code",
   "execution_count": 138,
   "metadata": {},
   "outputs": [],
   "source": [
    "import numpy as np\n",
    "import math"
   ]
  },
  {
   "cell_type": "code",
   "execution_count": 139,
   "metadata": {},
   "outputs": [],
   "source": [
    "def sigmoid(z):\n",
    "    return 1./(1+np.exp(-z))"
   ]
  },
  {
   "cell_type": "code",
   "execution_count": 140,
   "metadata": {},
   "outputs": [],
   "source": [
    "def log_loss(t, y):\n",
    "    return np.sum((-t*np.log(y) - (1 - t) * (np.log(1 - y))), keepdims=True).flatten()\n",
    "\n",
    "def diff_log_loss(t, y):\n",
    "    return np.sum(-t/y +(1-t)/(1-y), keepdims=True)"
   ]
  },
  {
   "cell_type": "code",
   "execution_count": 141,
   "metadata": {},
   "outputs": [],
   "source": [
    "def logos(sample):\n",
    "    sigmoid(sample.dot(w) + b)"
   ]
  },
  {
   "cell_type": "code",
   "execution_count": 142,
   "metadata": {},
   "outputs": [],
   "source": [
    "class Layer: #слой реализован в виде класса\n",
    "  \n",
    "    \n",
    "    def __init__(self, n_inp, n_out, lr=0.1):\n",
    "        self.shape = (n_inp, n_out) #залетают входящие и выходящие значения\n",
    "        self.lr = lr #шаг обучения\n",
    "        self.w = np.zeros(self.shape, dtype=np.float32) #веса в начале заданы нулями\n",
    "        self.b = np.zeros((1, n_out), dtype=np.float32) #смещения в начале заданы нулями\n",
    "        self._clear_grads() #проход обычного градиентного спуска\n",
    "\n",
    "    def _clear_grads(self): #градиентный спуск\n",
    "        self.inp = None\n",
    "        self.activations = None\n",
    "        self.d_sigma = None\n",
    "        self.d_w = None\n",
    "        self.d_b = None\n",
    "\n",
    "    def __call__(self, x): #вызов класса\n",
    "        if len(x.shape) == 1: #если входящие значения одноразмерны - сменить размерность\n",
    "            x = x.reshape(1, -1)\n",
    "        self.inp = x #задаем входные значения\n",
    "        self.activations = sigmoid(x.astype(np.float64).dot(self.w) + self.b) #запуск функции с функцией активации\n",
    "        return self.activations\n",
    "\n",
    "    def backward(self, grad): # обратный проход\n",
    "        self.d_sigma = self.activations * (1 - self.activations) #производная функции ошибки \n",
    "        self.d_w = self.grad_w(grad)\n",
    "        self.d_b = self.grad_b(grad)\n",
    "        return self.grad_x(grad)\n",
    "\n",
    "    def grad_w(self, grad):\n",
    "        return grad * self.inp.T * self.d_sigma\n",
    "\n",
    "    def grad_b(self, grad):\n",
    "        return grad * self.d_sigma\n",
    "\n",
    "    def grad_x(self, grad):\n",
    "        return self.w.dot(grad) * self.d_sigma\n",
    "\n",
    "    def step(self):\n",
    "        self.w -= self.d_w * self.lr\n",
    "        self.b -= self.d_b * self.lr\n",
    "        self._clear_grads()\n",
    "        #return(self.w, self.b)\n",
    "    \n",
    "    def logos(self,sample):\n",
    "        return(sigmoid(sample.dot(self.w) + self.b))"
   ]
  },
  {
   "cell_type": "code",
   "execution_count": 143,
   "metadata": {},
   "outputs": [],
   "source": [
    "l1 = Layer(5, 1)"
   ]
  },
  {
   "cell_type": "code",
   "execution_count": 144,
   "metadata": {},
   "outputs": [
    {
     "data": {
      "text/plain": [
       "array([[0.],\n",
       "       [0.],\n",
       "       [0.],\n",
       "       [0.],\n",
       "       [0.]], dtype=float32)"
      ]
     },
     "execution_count": 144,
     "metadata": {},
     "output_type": "execute_result"
    }
   ],
   "source": [
    "l1.w"
   ]
  },
  {
   "cell_type": "code",
   "execution_count": 145,
   "metadata": {},
   "outputs": [],
   "source": [
    "mu_0 = np.random.normal(1.0, 1.0, (1,10))\n",
    "mu_1 = np.random.normal(-1.0, 1.0, (1,10))"
   ]
  },
  {
   "cell_type": "code",
   "execution_count": 146,
   "metadata": {},
   "outputs": [],
   "source": [
    "x = np.array([1., 2., 1., -1., -2.])"
   ]
  },
  {
   "cell_type": "code",
   "execution_count": 147,
   "metadata": {},
   "outputs": [
    {
     "data": {
      "text/plain": [
       "(5,)"
      ]
     },
     "execution_count": 147,
     "metadata": {},
     "output_type": "execute_result"
    }
   ],
   "source": [
    "x.shape"
   ]
  },
  {
   "cell_type": "code",
   "execution_count": 148,
   "metadata": {},
   "outputs": [
    {
     "data": {
      "text/plain": [
       "array([[-0.06891452,  1.39499817,  1.12433548,  1.63877758,  0.11285278,\n",
       "         0.97803462,  1.51990391,  2.05639557,  1.32904124,  1.60439218]])"
      ]
     },
     "execution_count": 148,
     "metadata": {},
     "output_type": "execute_result"
    }
   ],
   "source": [
    "mu_0"
   ]
  },
  {
   "cell_type": "code",
   "execution_count": 149,
   "metadata": {},
   "outputs": [
    {
     "data": {
      "text/plain": [
       "array([[-1.87913222, -2.24072271, -1.30568081, -1.36496615, -1.97694744,\n",
       "        -1.34280162, -1.82289597,  0.82427666, -1.31056246,  0.04286237]])"
      ]
     },
     "execution_count": 149,
     "metadata": {},
     "output_type": "execute_result"
    }
   ],
   "source": [
    "mu_1 "
   ]
  },
  {
   "cell_type": "code",
   "execution_count": 150,
   "metadata": {},
   "outputs": [
    {
     "data": {
      "text/plain": [
       "(1, 10)"
      ]
     },
     "execution_count": 150,
     "metadata": {},
     "output_type": "execute_result"
    }
   ],
   "source": [
    "t = mu_1\n",
    "t.shape"
   ]
  },
  {
   "cell_type": "code",
   "execution_count": 151,
   "metadata": {},
   "outputs": [],
   "source": [
    "y = l1(x)"
   ]
  },
  {
   "cell_type": "code",
   "execution_count": 152,
   "metadata": {},
   "outputs": [
    {
     "data": {
      "text/plain": [
       "array([[0.5]])"
      ]
     },
     "execution_count": 152,
     "metadata": {},
     "output_type": "execute_result"
    }
   ],
   "source": [
    "y"
   ]
  },
  {
   "cell_type": "code",
   "execution_count": 153,
   "metadata": {},
   "outputs": [
    {
     "data": {
      "text/plain": [
       "array([6.93147181])"
      ]
     },
     "execution_count": 153,
     "metadata": {},
     "output_type": "execute_result"
    }
   ],
   "source": [
    "log_loss(t[0], y)"
   ]
  },
  {
   "cell_type": "code",
   "execution_count": 154,
   "metadata": {},
   "outputs": [],
   "source": [
    "d_y = diff_log_loss(t[0], y)"
   ]
  },
  {
   "cell_type": "code",
   "execution_count": 155,
   "metadata": {},
   "outputs": [
    {
     "data": {
      "text/plain": [
       "array([[69.50628147]])"
      ]
     },
     "execution_count": 155,
     "metadata": {},
     "output_type": "execute_result"
    }
   ],
   "source": [
    "d_y"
   ]
  },
  {
   "cell_type": "code",
   "execution_count": 156,
   "metadata": {},
   "outputs": [
    {
     "name": "stdout",
     "output_type": "stream",
     "text": [
      "[[5.61286305e+61]]\n"
     ]
    }
   ],
   "source": [
    "for line in t:\n",
    "    #print(line.reshape(1,).shape)\n",
    "    q = 0\n",
    "    for i in range(10):\n",
    "        y = l1(x)\n",
    "        d_y = diff_log_loss(line, y)\n",
    "        #print(d_y)\n",
    "        l1.backward(d_y)\n",
    "        l1.step()\n",
    "    print(d_y)"
   ]
  },
  {
   "cell_type": "code",
   "execution_count": 157,
   "metadata": {},
   "outputs": [
    {
     "data": {
      "text/plain": [
       "array([[2.20503694e-61]])"
      ]
     },
     "execution_count": 157,
     "metadata": {},
     "output_type": "execute_result"
    }
   ],
   "source": [
    "y"
   ]
  },
  {
   "cell_type": "code",
   "execution_count": 158,
   "metadata": {},
   "outputs": [],
   "source": [
    "t2 = mu_0"
   ]
  },
  {
   "cell_type": "code",
   "execution_count": 159,
   "metadata": {},
   "outputs": [
    {
     "name": "stdout",
     "output_type": "stream",
     "text": [
      "[[-2.21205974e+13]]\n"
     ]
    }
   ],
   "source": [
    "for line in t2:\n",
    "    #print(line.reshape(1,).shape)\n",
    "    q = 0\n",
    "    for i in range(10):\n",
    "        y = l1(x)\n",
    "        d_y = diff_log_loss(line, y)\n",
    "        #print(d_y)\n",
    "        l1.backward(d_y)\n",
    "        l1.step()\n",
    "    print(d_y)"
   ]
  },
  {
   "cell_type": "code",
   "execution_count": 160,
   "metadata": {},
   "outputs": [
    {
     "data": {
      "text/plain": [
       "array([[5.28458467e-13]])"
      ]
     },
     "execution_count": 160,
     "metadata": {},
     "output_type": "execute_result"
    }
   ],
   "source": [
    "y"
   ]
  },
  {
   "cell_type": "code",
   "execution_count": 161,
   "metadata": {},
   "outputs": [],
   "source": [
    "z = np.array([0.0609173])"
   ]
  },
  {
   "cell_type": "code",
   "execution_count": 162,
   "metadata": {},
   "outputs": [
    {
     "data": {
      "text/plain": [
       "array([1.72205971])"
      ]
     },
     "execution_count": 162,
     "metadata": {},
     "output_type": "execute_result"
    }
   ],
   "source": [
    "log_loss(z, y)"
   ]
  },
  {
   "cell_type": "code",
   "execution_count": 165,
   "metadata": {},
   "outputs": [],
   "source": [
    "z = np.array([-0.06180425])"
   ]
  },
  {
   "cell_type": "code",
   "execution_count": 166,
   "metadata": {},
   "outputs": [
    {
     "data": {
      "text/plain": [
       "array([-1.74713274])"
      ]
     },
     "execution_count": 166,
     "metadata": {},
     "output_type": "execute_result"
    }
   ],
   "source": [
    "log_loss(z, y)"
   ]
  },
  {
   "cell_type": "code",
   "execution_count": null,
   "metadata": {},
   "outputs": [],
   "source": []
  }
 ],
 "metadata": {
  "kernelspec": {
   "display_name": "Python 3",
   "language": "python",
   "name": "python3"
  },
  "language_info": {
   "codemirror_mode": {
    "name": "ipython",
    "version": 3
   },
   "file_extension": ".py",
   "mimetype": "text/x-python",
   "name": "python",
   "nbconvert_exporter": "python",
   "pygments_lexer": "ipython3",
   "version": "3.6.9"
  }
 },
 "nbformat": 4,
 "nbformat_minor": 4
}
