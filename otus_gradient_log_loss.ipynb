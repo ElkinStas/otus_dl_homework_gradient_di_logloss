{
 "cells": [
  {
   "cell_type": "code",
   "execution_count": 310,
   "metadata": {},
   "outputs": [],
   "source": [
    "import numpy as np\n",
    "import math"
   ]
  },
  {
   "cell_type": "code",
   "execution_count": 311,
   "metadata": {},
   "outputs": [],
   "source": [
    "def sigmoid(z):\n",
    "    return 1./(1+np.exp(-z))"
   ]
  },
  {
   "cell_type": "code",
   "execution_count": 312,
   "metadata": {},
   "outputs": [],
   "source": [
    "def log_loss(t, y):\n",
    "    return np.sum((-t*np.log(y) - (1 - t) * (np.log(1 - y))), keepdims=True).flatten()\n",
    "\n",
    "def diff_log_loss(t, y):\n",
    "    return np.sum(-t/y +(1-t)/(1-y), keepdims=True)"
   ]
  },
  {
   "cell_type": "code",
   "execution_count": 313,
   "metadata": {},
   "outputs": [],
   "source": [
    "def logos(sample):\n",
    "    sigmoid(sample.dot(w) + b)"
   ]
  },
  {
   "cell_type": "code",
   "execution_count": 314,
   "metadata": {},
   "outputs": [],
   "source": [
    "class Layer: #слой реализован в виде класса\n",
    "  \n",
    "    \n",
    "    def __init__(self, n_inp, n_out, lr=0.1):\n",
    "        self.shape = (n_inp, n_out) #залетают входящие и выходящие значения\n",
    "        self.lr = lr #шаг обучения\n",
    "        self.w = np.zeros(self.shape, dtype=np.float32) #веса в начале заданы нулями\n",
    "        self.b = np.zeros((1, n_out), dtype=np.float32) #смещения в начале заданы нулями\n",
    "        self._clear_grads() #проход обычного градиентного спуска\n",
    "\n",
    "    def _clear_grads(self): #градиентный спуск\n",
    "        self.inp = None\n",
    "        self.activations = None\n",
    "        self.d_sigma = None\n",
    "        self.d_w = None\n",
    "        self.d_b = None\n",
    "\n",
    "    def __call__(self, x): #вызов класса\n",
    "        if len(x.shape) == 1: #если входящие значения одноразмерны - сменить размерность\n",
    "            x = x.reshape(1, -1)\n",
    "        self.inp = x #задаем входные значения\n",
    "        self.activations = sigmoid(x.astype(np.float64).dot(self.w) + self.b) #запуск функции с функцией активации\n",
    "        return self.activations\n",
    "\n",
    "    def backward(self, grad): # обратный проход\n",
    "        self.d_sigma = self.activations * (1 - self.activations) #производная функции ошибки \n",
    "        self.d_w = self.grad_w(grad)\n",
    "        self.d_b = self.grad_b(grad)\n",
    "        return self.grad_x(grad)\n",
    "\n",
    "    def grad_w(self, grad):\n",
    "        return grad * self.inp.T * self.d_sigma\n",
    "\n",
    "    def grad_b(self, grad):\n",
    "        return grad * self.d_sigma\n",
    "\n",
    "    def grad_x(self, grad):\n",
    "        return self.w.dot(grad) * self.d_sigma\n",
    "\n",
    "    def step(self):\n",
    "        self.w -= self.d_w * self.lr\n",
    "        self.b -= self.d_b * self.lr\n",
    "        self._clear_grads()\n",
    "        #return(self.w, self.b)\n",
    "    \n",
    "    def logos(self,sample):\n",
    "        return(sigmoid(sample.dot(self.w) + self.b))"
   ]
  },
  {
   "cell_type": "code",
   "execution_count": 315,
   "metadata": {},
   "outputs": [],
   "source": [
    "l1 = Layer(5, 1)"
   ]
  },
  {
   "cell_type": "code",
   "execution_count": 316,
   "metadata": {},
   "outputs": [
    {
     "data": {
      "text/plain": [
       "array([[0.],\n",
       "       [0.],\n",
       "       [0.],\n",
       "       [0.],\n",
       "       [0.]], dtype=float32)"
      ]
     },
     "execution_count": 316,
     "metadata": {},
     "output_type": "execute_result"
    }
   ],
   "source": [
    "l1.w"
   ]
  },
  {
   "cell_type": "code",
   "execution_count": 317,
   "metadata": {},
   "outputs": [],
   "source": [
    "mu_0 = np.random.normal(loc=(-1, -1), scale=(1, 1), size =(10,1)).reshape(10,)\n",
    "mu_1 = np.random.normal(loc=(1, 1), scale=(1, 1), size =(10,1)).reshape(10,)"
   ]
  },
  {
   "cell_type": "code",
   "execution_count": 318,
   "metadata": {},
   "outputs": [],
   "source": [
    "x = np.array([1., 2., 1., -1., -2.])"
   ]
  },
  {
   "cell_type": "code",
   "execution_count": 319,
   "metadata": {},
   "outputs": [
    {
     "data": {
      "text/plain": [
       "(5,)"
      ]
     },
     "execution_count": 319,
     "metadata": {},
     "output_type": "execute_result"
    }
   ],
   "source": [
    "x.shape"
   ]
  },
  {
   "cell_type": "code",
   "execution_count": 320,
   "metadata": {},
   "outputs": [
    {
     "data": {
      "text/plain": [
       "array([-2.1437663 , -1.36419864, -0.64039143, -1.7815914 , -1.96387339,\n",
       "       -0.39488693, -1.77022704,  0.06180425, -0.47279055, -0.77047019])"
      ]
     },
     "execution_count": 320,
     "metadata": {},
     "output_type": "execute_result"
    }
   ],
   "source": [
    "mu_0"
   ]
  },
  {
   "cell_type": "code",
   "execution_count": 321,
   "metadata": {},
   "outputs": [
    {
     "data": {
      "text/plain": [
       "array([0.05959778, 0.69243402, 2.19719159, 1.47952505, 0.98433451,\n",
       "       0.12939022, 0.29138256, 0.53457187, 1.2584286 , 1.68335228])"
      ]
     },
     "execution_count": 321,
     "metadata": {},
     "output_type": "execute_result"
    }
   ],
   "source": [
    "mu_1 "
   ]
  },
  {
   "cell_type": "code",
   "execution_count": 322,
   "metadata": {},
   "outputs": [
    {
     "data": {
      "text/plain": [
       "(10,)"
      ]
     },
     "execution_count": 322,
     "metadata": {},
     "output_type": "execute_result"
    }
   ],
   "source": [
    "t = mu_1\n",
    "t.shape"
   ]
  },
  {
   "cell_type": "code",
   "execution_count": 323,
   "metadata": {},
   "outputs": [],
   "source": [
    "y = l1(x)"
   ]
  },
  {
   "cell_type": "code",
   "execution_count": 324,
   "metadata": {},
   "outputs": [
    {
     "data": {
      "text/plain": [
       "array([[0.5]])"
      ]
     },
     "execution_count": 324,
     "metadata": {},
     "output_type": "execute_result"
    }
   ],
   "source": [
    "y"
   ]
  },
  {
   "cell_type": "code",
   "execution_count": 325,
   "metadata": {},
   "outputs": [
    {
     "data": {
      "text/plain": [
       "array([0.69314718])"
      ]
     },
     "execution_count": 325,
     "metadata": {},
     "output_type": "execute_result"
    }
   ],
   "source": [
    "log_loss(t[0], y)"
   ]
  },
  {
   "cell_type": "code",
   "execution_count": 326,
   "metadata": {},
   "outputs": [],
   "source": [
    "d_y = diff_log_loss(t[0], y)"
   ]
  },
  {
   "cell_type": "code",
   "execution_count": 327,
   "metadata": {},
   "outputs": [
    {
     "data": {
      "text/plain": [
       "array([[1.76160889]])"
      ]
     },
     "execution_count": 327,
     "metadata": {},
     "output_type": "execute_result"
    }
   ],
   "source": [
    "d_y"
   ]
  },
  {
   "cell_type": "code",
   "execution_count": 328,
   "metadata": {},
   "outputs": [
    {
     "name": "stdout",
     "output_type": "stream",
     "text": [
      "[[0.57346932]]\n",
      "[[-0.15843259]]\n",
      "[[-1651325.48970317]]\n",
      "[[-4.9380632e+08]]\n",
      "[[24216945.48077714]]\n",
      "[[108980.90231499]]\n",
      "[[15.84361458]]\n",
      "[[0.12978508]]\n",
      "[[-22.43953864]]\n",
      "[[-125039.78754773]]\n"
     ]
    }
   ],
   "source": [
    "for line in t:\n",
    "    #print(line.reshape(1,).shape)\n",
    "    q = 0\n",
    "    for i in range(10):\n",
    "        y = l1(x)\n",
    "        d_y = diff_log_loss(line.reshape(1,), y)\n",
    "        #print(d_y)\n",
    "        l1.backward(d_y)\n",
    "        l1.step()\n",
    "    print(d_y)"
   ]
  },
  {
   "cell_type": "code",
   "execution_count": 329,
   "metadata": {},
   "outputs": [
    {
     "data": {
      "text/plain": [
       "array([[0.99999453]])"
      ]
     },
     "execution_count": 329,
     "metadata": {},
     "output_type": "execute_result"
    }
   ],
   "source": [
    "y"
   ]
  },
  {
   "cell_type": "code",
   "execution_count": 330,
   "metadata": {},
   "outputs": [],
   "source": [
    "t2 = mu_0"
   ]
  },
  {
   "cell_type": "code",
   "execution_count": 331,
   "metadata": {},
   "outputs": [
    {
     "name": "stdout",
     "output_type": "stream",
     "text": [
      "[[6828685.20724842]]\n",
      "[[1.42520209e+14]]\n",
      "[[3.46804018e+17]]\n",
      "[[4.72645213e+26]]\n",
      "[[7.18843806e+36]]\n",
      "[[1.0855439e+39]]\n",
      "[[1.57053384e+48]]\n",
      "[[-2.35340342e+47]]\n",
      "[[2.75878144e+50]]\n",
      "[[3.25848728e+54]]\n"
     ]
    }
   ],
   "source": [
    "for line in t2:\n",
    "    #print(line.reshape(1,).shape)\n",
    "    q = 0\n",
    "    for i in range(10):\n",
    "        y = l1(x)\n",
    "        d_y = diff_log_loss(line.reshape(1,), y)\n",
    "        #print(d_y)\n",
    "        l1.backward(d_y)\n",
    "        l1.step()\n",
    "    print(d_y)"
   ]
  },
  {
   "cell_type": "code",
   "execution_count": 332,
   "metadata": {},
   "outputs": [
    {
     "data": {
      "text/plain": [
       "array([[2.36450268e-55]])"
      ]
     },
     "execution_count": 332,
     "metadata": {},
     "output_type": "execute_result"
    }
   ],
   "source": [
    "y"
   ]
  },
  {
   "cell_type": "code",
   "execution_count": 333,
   "metadata": {},
   "outputs": [],
   "source": [
    "z = np.array([0.0609173])"
   ]
  },
  {
   "cell_type": "code",
   "execution_count": 334,
   "metadata": {},
   "outputs": [
    {
     "data": {
      "text/plain": [
       "array([7.66227622])"
      ]
     },
     "execution_count": 334,
     "metadata": {},
     "output_type": "execute_result"
    }
   ],
   "source": [
    "log_loss(z, y)"
   ]
  },
  {
   "cell_type": "code",
   "execution_count": 339,
   "metadata": {},
   "outputs": [],
   "source": [
    "z = np.array([-0.06180425])"
   ]
  },
  {
   "cell_type": "code",
   "execution_count": 340,
   "metadata": {},
   "outputs": [
    {
     "data": {
      "text/plain": [
       "array([-7.77383822])"
      ]
     },
     "execution_count": 340,
     "metadata": {},
     "output_type": "execute_result"
    }
   ],
   "source": [
    "log_loss(z, y)"
   ]
  },
  {
   "cell_type": "code",
   "execution_count": null,
   "metadata": {},
   "outputs": [],
   "source": []
  }
 ],
 "metadata": {
  "kernelspec": {
   "display_name": "Python 3",
   "language": "python",
   "name": "python3"
  },
  "language_info": {
   "codemirror_mode": {
    "name": "ipython",
    "version": 3
   },
   "file_extension": ".py",
   "mimetype": "text/x-python",
   "name": "python",
   "nbconvert_exporter": "python",
   "pygments_lexer": "ipython3",
   "version": "3.6.9"
  }
 },
 "nbformat": 4,
 "nbformat_minor": 4
}
